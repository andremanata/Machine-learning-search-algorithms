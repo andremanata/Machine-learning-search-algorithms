{
 "cells": [
  {
   "cell_type": "markdown",
   "metadata": {},
   "source": [
    "Comp 472 A2\n"
   ]
  },
  {
   "cell_type": "code",
   "execution_count": 462,
   "metadata": {},
   "outputs": [],
   "source": [
    "import copy\n",
    "import csv\n",
    "import time\n",
    "import numpy as np\n",
    "import random"
   ]
  },
  {
   "cell_type": "markdown",
   "metadata": {},
   "source": [
    "# Define starting state and goal"
   ]
  },
  {
   "cell_type": "code",
   "execution_count": 499,
   "metadata": {},
   "outputs": [],
   "source": [
    "#Import Initial state\n",
    "Initial_state = []\n",
    "with open('input.txt', 'r') as fd:\n",
    "    reader = csv.reader(fd)\n",
    "    for row in reader:\n",
    "        temp = []\n",
    "        for i in row[0].split():\n",
    "            temp = temp + [int(i)]\n",
    "        Initial_state = Initial_state+[temp]\n",
    "#Goal state\n",
    "goal_state = [[1,2,3,4,5,6,7,0],\n",
    "              [1,3,5,7,2,4,6,0]]\n",
    "xmax = 2\n",
    "ymax = 4\n",
    "runtime = 60"
   ]
  },
  {
   "cell_type": "code",
   "execution_count": 500,
   "metadata": {},
   "outputs": [],
   "source": [
    "# create a list of imputs\n",
    "arr = [1,2,3,4,5,6,7,0]\n",
    "Initial_state = []\n",
    "for i in range (50):\n",
    "    random.seed(21)\n",
    "    random.shuffle(arr)\n",
    "    Initial_state= Initial_state+[copy.deepcopy(arr)]\n"
   ]
  },
  {
   "cell_type": "markdown",
   "metadata": {},
   "source": [
    "# Node class and usefull functions"
   ]
  },
  {
   "cell_type": "code",
   "execution_count": 428,
   "metadata": {},
   "outputs": [],
   "source": [
    "#create class \n",
    "class Node: \n",
    "    state = None\n",
    "    cost = 0\n",
    "    parent = None\n",
    "    heristic = 0\n",
    "    move = None\n",
    "    \n",
    "    # parameterized constructor \n",
    "    def __init__(self, state, cost, parent, move): \n",
    "        self.state = state \n",
    "        self.cost = cost\n",
    "        self.parent = parent\n",
    "        self.move = move\n",
    "    \n",
    "    def swap(self, x, y, cost):\n",
    "        arr = copy.deepcopy(self.state)\n",
    "        arr[x], arr[y] = arr[y],arr[x]\n",
    "        return  Node(arr, self.cost+cost, self, [arr[x], cost])\n",
    "    \n",
    "    def swaph(self, x, y, cost, h):\n",
    "        arr = copy.deepcopy(self.state)\n",
    "        arr[x], arr[y] = arr[y],arr[x]\n",
    "        temp = Node(arr, self.cost+cost, self, [arr[x], cost])\n",
    "        temp.heristic = h\n",
    "        return  temp\n",
    "    \n",
    "    def zero(self):\n",
    "        return self.state.index(0)\n",
    "    "
   ]
  },
  {
   "cell_type": "markdown",
   "metadata": {},
   "source": [
    "# Uniform cost search (UCS)"
   ]
  },
  {
   "cell_type": "code",
   "execution_count": 490,
   "metadata": {},
   "outputs": [],
   "source": [
    "def ucs(start, goal, hight, lenght):\n",
    "    openlist = [Node(start, 0, None, [0,0])]\n",
    "    closelist = []\n",
    "    sec = time.time()\n",
    "    while (len(openlist) != 0 and time.time()-sec < runtime):\n",
    "        temp = []\n",
    "        m = openlist.pop(0)\n",
    "        #check if goal reached\n",
    "        for i in goal:\n",
    "            if m.state == i:\n",
    "                #print (\"UCS search reached goal\")\n",
    "                closelist = [m]+closelist\n",
    "                return [closelist, time.time()-sec]\n",
    "                print(\"solution found\")\n",
    "        #travers node\n",
    "        x = m.zero()\n",
    "        if x == 0:\n",
    "            #do diagnal move, wrap move\n",
    "            temp.append(m.swap(x, lenght-1, 2))\n",
    "            temp.append(m.swap(x, hight*lenght-1, 3))\n",
    "        if x == ymax-1:\n",
    "            #do diagnal move, wrap move\n",
    "            temp.append(m.swap(x, 0, 2))\n",
    "            temp.append(m.swap(x, lenght, 3))\n",
    "        if x == ymax*(xmax-1):\n",
    "            #do diagnal move, wrap move\n",
    "            temp.append(m.swap(x, lenght-1, 3))\n",
    "            temp.append(m.swap(x, hight*lenght-1, 2))\n",
    "        if x == xmax*ymax-1:\n",
    "            #do diagnal move, wrap move\n",
    "            temp.append(m.swap(x, 0, 3))\n",
    "            temp.append(m.swap(x, lenght*(hight-1), 2))\n",
    "        if x < ymax*(xmax-1):\n",
    "            #do down move\n",
    "            temp.append(m.swap(x, x+lenght, 1))\n",
    "        if x > ymax-1:\n",
    "            #do up move\n",
    "            temp.append(m.swap(x, x-lenght, 1))\n",
    "        if x != 0 and x != lenght:\n",
    "            #do left move\n",
    "            temp.append(m.swap(x, x-1, 1))\n",
    "        if x != ymax-1 and x != hight*lenght-1:\n",
    "            #do right move\n",
    "            temp.append(m.swap(x, x+1, 1))\n",
    "        #add to closelist\n",
    "        closelist = [m]+closelist\n",
    "        #check if states already traversed\n",
    "        for i in temp: \n",
    "            add = True\n",
    "            for j in closelist:\n",
    "                if j.state == i.state:\n",
    "                    add = False\n",
    "                    break\n",
    "            if add: \n",
    "                openlist = [i]+openlist\n",
    "        #sort openlist by cost\n",
    "        openlist = sorted(openlist, key = lambda Node: Node.cost)\n",
    "        \n",
    "    #print(\"UCS search found no solutions\")\n",
    "    return [None, time.time()-sec]"
   ]
  },
  {
   "cell_type": "markdown",
   "metadata": {},
   "source": [
    "# Greedy best first search (GBFS)"
   ]
  },
  {
   "cell_type": "code",
   "execution_count": 496,
   "metadata": {},
   "outputs": [],
   "source": [
    "def GBFS(start, goal, hight, lenght):\n",
    "    openlist = [Node(start, 0, None, [0,0])]\n",
    "    closelist = []\n",
    "    sec = time.time()\n",
    "    while (len(openlist) != 0 and time.time()-sec < runtime):\n",
    "        temp = []\n",
    "        m = openlist.pop(0)\n",
    "        #check if goal reached\n",
    "        for i in goal:\n",
    "            if m.state == i:\n",
    "                #print (\"GBFS search reached goal\")\n",
    "                closelist = [m]+closelist\n",
    "                return [closelist,  time.time()-sec]\n",
    "        #travers node\n",
    "        x = m.zero()\n",
    "        if x == 0:\n",
    "            #do diagnal move, wrap move\n",
    "            temp.append(m.swaph(x, lenght-1, 2, heristic(m)))\n",
    "            temp.append(m.swaph(x, hight*lenght-1, 3, heristic(m)))\n",
    "        if x == ymax-1:\n",
    "            #do diagnal move, wrap move\n",
    "            temp.append(m.swaph(x, 0, 2, heristic(m)))\n",
    "            temp.append(m.swaph(x, lenght, 3, heristic(m)))\n",
    "        if x == ymax*(xmax-1):\n",
    "            #do diagnal move, wrap move\n",
    "            temp.append(m.swaph(x, lenght-1, 3, heristic(m)))\n",
    "            temp.append(m.swaph(x, hight*lenght-1, 2, heristic(m)))\n",
    "        if x == xmax*ymax-1:\n",
    "            #do diagnal move, wrap move\n",
    "            temp.append(m.swaph(x, 0, 3, heristic(m)))\n",
    "            temp.append(m.swaph(x, lenght*(hight-1), 2, heristic(m)))\n",
    "        if x < ymax*(xmax-1):\n",
    "            #do down move\n",
    "            temp.append(m.swaph(x, x+lenght, 1, heristic(m)))\n",
    "        if x > ymax-1:\n",
    "            #do up move\n",
    "            temp.append(m.swaph(x, x-lenght, 1, heristic(m)))\n",
    "        if x != 0 and x != lenght:\n",
    "            #do left move\n",
    "            temp.append(m.swaph(x, x-1, 1, heristic(m)))\n",
    "        if x != ymax-1 and x != hight*lenght-1:\n",
    "            #do right move\n",
    "            temp.append(m.swaph(x, x+1, 1, heristic(m)))\n",
    "        #add to closelist\n",
    "        closelist = [m]+closelist\n",
    "        #check if states already traversed\n",
    "        for i in temp: \n",
    "            add = True\n",
    "            for j in closelist:\n",
    "                if j.state == i.state:\n",
    "                    add = False\n",
    "                    break\n",
    "            if add: \n",
    "                openlist = [i]+openlist\n",
    "        #sort openlist by cost\n",
    "        openlist = sorted(openlist, key = lambda Node: Node.heristic)\n",
    "        \n",
    "    #print(\"GBFS search found no solutions\")\n",
    "    return [None, time.time()-sec]"
   ]
  },
  {
   "cell_type": "markdown",
   "metadata": {},
   "source": [
    "# Algorithm A*"
   ]
  },
  {
   "cell_type": "code",
   "execution_count": 497,
   "metadata": {},
   "outputs": [],
   "source": [
    "def A(start, goal, hight, lenght):\n",
    "    openlist = [Node(start, 0, None, [0,0])]\n",
    "    closelist = []\n",
    "    sec = time.time()\n",
    "    while (len(openlist) != 0 and time.time()-sec < runtime):\n",
    "        temp = []\n",
    "        m = openlist.pop(0)\n",
    "        #check if goal reached\n",
    "        for i in goal:\n",
    "            if m.state == i:\n",
    "                #print (\"A* search reached goal\")\n",
    "                closelist = [m]+closelist\n",
    "                return [closelist,  time.time()-sec]\n",
    "        #travers node\n",
    "        x = m.zero()\n",
    "        if x == 0:\n",
    "            #do diagnal move, wrap move\n",
    "            temp.append(m.swaph(x, lenght-1, 2, heristic(m)))\n",
    "            temp.append(m.swaph(x, hight*lenght-1, 3, heristic(m)))\n",
    "        if x == ymax-1:\n",
    "            #do diagnal move, wrap move\n",
    "            temp.append(m.swaph(x, 0, 2, heristic(m)))\n",
    "            temp.append(m.swaph(x, lenght, 3, heristic(m)))\n",
    "        if x == ymax*(xmax-1):\n",
    "            #do diagnal move, wrap move\n",
    "            temp.append(m.swaph(x, lenght-1, 3, heristic(m)))\n",
    "            temp.append(m.swaph(x, hight*lenght-1, 2, heristic(m)))\n",
    "        if x == xmax*ymax-1:\n",
    "            #do diagnal move, wrap move\n",
    "            temp.append(m.swaph(x, 0, 3, heristic(m)))\n",
    "            temp.append(m.swaph(x, lenght*(hight-1), 2, heristic(m)))\n",
    "        if x < ymax*(xmax-1):\n",
    "            #do down move\n",
    "            temp.append(m.swaph(x, x+lenght, 1, heristic(m)))\n",
    "        if x > ymax-1:\n",
    "            #do up move\n",
    "            temp.append(m.swaph(x, x-lenght, 1, heristic(m)))\n",
    "        if x != 0 and x != lenght:\n",
    "            #do left move\n",
    "            temp.append(m.swaph(x, x-1, 1, heristic(m)))\n",
    "        if x != ymax-1 and x != hight*lenght-1:\n",
    "            #do right move\n",
    "            temp.append(m.swaph(x, x+1, 1, heristic(m)))\n",
    "        #add to closelist\n",
    "        closelist = [m]+closelist\n",
    "        #check if states already traversed\n",
    "        for i in range(len(temp)): \n",
    "            add = True\n",
    "            for j in range(len(closelist)):\n",
    "                if closelist[j].state == temp[i].state:\n",
    "                    #check cost \n",
    "                    if closelist[j].cost < temp[i].cost:\n",
    "                        add = False\n",
    "                        break\n",
    "            if add:\n",
    "                #check if already in open\n",
    "                for j in range(len(openlist)):\n",
    "                    if openlist[j].state == temp[i].state:\n",
    "                        #check cost \n",
    "                        if openlist[j].cost > temp[i].cost:\n",
    "                            openlist[j] = temp[i]\n",
    "                        add = False\n",
    "                        break\n",
    "            if add: \n",
    "                openlist = [temp[i]]+openlist\n",
    "        #sort openlist by cost\n",
    "        openlist = sorted(openlist, key = lambda Node: (Node.heristic + Node.cost))\n",
    "        \n",
    "    #print(\"A* search found no solutions\")\n",
    "    return [None,  time.time()-sec]"
   ]
  },
  {
   "cell_type": "markdown",
   "metadata": {},
   "source": [
    "# Run Uniform cost search (UCS)"
   ]
  },
  {
   "cell_type": "code",
   "execution_count": 522,
   "metadata": {},
   "outputs": [],
   "source": [
    "perf = []\n",
    "for st in range(len(Initial_state)):\n",
    "    #run UCS \n",
    "    m, t = ucs(Initial_state[st], goal_state, xmax, ymax)\n",
    "    if (m == None):\n",
    "        solution = [\"no solution\"]\n",
    "        search = [\"no solution\"]\n",
    "        cost = \"no solution\"\n",
    "    else:\n",
    "         #prepare solution file\n",
    "        arr = []\n",
    "        temp = m[0]\n",
    "        while (temp != None):\n",
    "            arr = [temp.move + temp.state]+ arr\n",
    "            temp = temp.parent\n",
    "        solution = np.array(arr)\n",
    "    \n",
    "        #prepare search file\n",
    "        arr = []\n",
    "        for i in m:\n",
    "            arr = arr + [[0, i.cost, 0] + i.state]\n",
    "        search = np.array(arr)\n",
    "        cost = m[0].cost\n",
    "    #runtime, solution, search, cost\n",
    "    perf = perf + [[t, len(solution), len(search), cost]]\n",
    "    name = str(st)+ \" ucs solution.txt\"\n",
    "    #np.savetxt(name, solution, fmt=\"%s\")\n",
    "    name = str(st)+ \" ucs search.txt\"\n",
    "    #np.savetxt(name, search, fmt=\"%s\")\n",
    "np.savetxt(\"UCS.csv\", perf, delimiter=',',newline='\\n', fmt=\"%s\")\n"
   ]
  },
  {
   "cell_type": "markdown",
   "metadata": {},
   "source": [
    "# Define Heristic function (h1)"
   ]
  },
  {
   "cell_type": "code",
   "execution_count": 523,
   "metadata": {},
   "outputs": [],
   "source": [
    "# for h1\n",
    "def heristic(m):\n",
    "    temp = 0\n",
    "    x = None\n",
    "    for i in goal_state:\n",
    "        for j in range(xmax*ymax):\n",
    "            temp = temp + abs(i[j]-m.state[j])\n",
    "        if x == None:\n",
    "            x=temp\n",
    "        elif x>temp:\n",
    "            x=temp\n",
    "    return x "
   ]
  },
  {
   "cell_type": "markdown",
   "metadata": {},
   "source": [
    "# Run h1 Greedy best first search (GBFS)"
   ]
  },
  {
   "cell_type": "code",
   "execution_count": 524,
   "metadata": {},
   "outputs": [],
   "source": [
    "perf=[]\n",
    "for st in range(len(Initial_state)):\n",
    "    #run gbfs h1\n",
    "    m, t = GBFS(Initial_state[st], goal_state, xmax, ymax)\n",
    "    if (m == None):\n",
    "        solution = [\"no solution\"]\n",
    "        search = [\"no solution\"]\n",
    "        cost = \"no solution\"\n",
    "    else:\n",
    "        #prepare solution file\n",
    "        arr = []\n",
    "        temp = m[0]\n",
    "        while (temp != None):\n",
    "            arr = [temp.move + temp.state]+ arr\n",
    "            temp = temp.parent\n",
    "        solution = np.array(arr)\n",
    "    \n",
    "        #prepare search file\n",
    "        arr = []\n",
    "        for i in m:\n",
    "            arr = arr + [[0, 0, i.heristic] + i.state]\n",
    "        search = np.array(arr)\n",
    "        cost =m[0].cost\n",
    "        \n",
    "    perf = perf + [[t, len(solution), len(search), cost]]\n",
    "    name = str(st)+ \" gbfs-h1 solution.txt\"\n",
    "    #np.savetxt(name, solution, fmt=\"%s\")\n",
    "    name = str(st)+ \" gbfs-h1 search.txt\"\n",
    "    #np.savetxt(name, search, fmt=\"%s\")\n",
    "np.savetxt(\"GBFS-h1.csv\", perf, newline='\\n', delimiter=',', fmt=\"%s\")\n"
   ]
  },
  {
   "cell_type": "markdown",
   "metadata": {},
   "source": [
    "# Run h1 A*"
   ]
  },
  {
   "cell_type": "code",
   "execution_count": 525,
   "metadata": {},
   "outputs": [],
   "source": [
    "perf = []\n",
    "for st in range(len(Initial_state)):\n",
    "    #run A* h1\n",
    "    m, t = A(Initial_state[st], goal_state, xmax, ymax)\n",
    "    if (m == None):\n",
    "        solution = [\"no solution\"]\n",
    "        search = [\"no solution\"]\n",
    "        cost = \"no solustion\"\n",
    "    else:\n",
    "        #prepare solution file\n",
    "        arr = []\n",
    "        temp = m[0]\n",
    "        while (temp != None):\n",
    "            arr = [temp.move + temp.state]+ arr\n",
    "            temp = temp.parent\n",
    "        solution = np.array(arr)\n",
    "    \n",
    "        #prepare search file\n",
    "        arr = []\n",
    "        for i in m:\n",
    "            arr = arr + [[(i.cost+i.heristic), 0, 0] + i.state]\n",
    "        search = np.array(arr)\n",
    "        cost = m[0].cost\n",
    "        \n",
    "    perf = perf + [[t, len(solution), len(search), cost]]\n",
    "    name = str(st)+ \" astar-h1 solution.txt\"\n",
    "    #np.savetxt(name, solution, fmt=\"%s\")\n",
    "    name = str(st)+ \" astar-h1 search.txt\"\n",
    "    #np.savetxt(name, search, fmt=\"%s\")\n",
    "np.savetxt(\"Astar-h1.csv\", perf, delimiter=',', newline='\\n', fmt=\"%s\")\n"
   ]
  },
  {
   "cell_type": "markdown",
   "metadata": {},
   "source": [
    "# Define Heristic function (h2)"
   ]
  },
  {
   "cell_type": "code",
   "execution_count": 454,
   "metadata": {},
   "outputs": [],
   "source": [
    "#for h2\n",
    "def heristic(m):\n",
    "    temp = 0\n",
    "    x = None\n",
    "    for i in goal_state:\n",
    "        for j in range(xmax*ymax):\n",
    "            if m.state[j] != i[j]:\n",
    "                temp +1\n",
    "        if x == None:\n",
    "            x=temp\n",
    "        elif x>temp:\n",
    "            x=temp\n",
    "    return x "
   ]
  },
  {
   "cell_type": "markdown",
   "metadata": {},
   "source": [
    "# Run h2 Greedy best first search (GBFS)"
   ]
  },
  {
   "cell_type": "code",
   "execution_count": 451,
   "metadata": {},
   "outputs": [],
   "source": [
    "for st in range(len(Initial_state)):\n",
    "    #run gbfs h1\n",
    "    m, t = GBFS(Initial_state[st], goal_state, xmax, ymax)\n",
    "    if (m == None):\n",
    "        solution = [\"no solution\"]\n",
    "        search = [\"no solution\"]\n",
    "        cost = \"no solution\"\n",
    "    else:\n",
    "        #prepare solution file\n",
    "        arr = []\n",
    "        temp = m[0]\n",
    "        while (temp != None):\n",
    "            arr = [temp.move + temp.state]+ arr\n",
    "            temp = temp.parent\n",
    "        solution = np.array(arr)\n",
    "    \n",
    "        #prepare search file\n",
    "        arr = []\n",
    "        for i in m:\n",
    "            arr = arr + [[0, 0, i.heristic] + i.state]\n",
    "        search = np.array(arr)\n",
    "        cost = m[0].cost\n",
    "\n",
    "    print(st, \"RunTIme:\",t, \"length of solution:\", len(solution), \"length of search\", len(search), \"cost of solution:\", cost)        \n",
    "    name = str(st)+ \" gbfs-h2 solution.txt\"\n",
    "    np.savetxt(name, solution, fmt=\"%s\")\n",
    "    name = str(st)+ \" gbfs-h2 search.txt\"\n",
    "    np.savetxt(name, search, fmt=\"%s\")"
   ]
  },
  {
   "cell_type": "markdown",
   "metadata": {},
   "source": [
    "# Run h2 A*"
   ]
  },
  {
   "cell_type": "code",
   "execution_count": 459,
   "metadata": {},
   "outputs": [],
   "source": [
    "for st in range(len(Initial_state)):\n",
    "    #run A* h2\n",
    "    m, t = A(Initial_state[st], goal_state, xmax, ymax)\n",
    "    if (m == None):\n",
    "        solution = [\"no solution\"]\n",
    "        search = [\"no solution\"]\n",
    "        cost = \"no solution\"\n",
    "    else:\n",
    "        #prepare solution file\n",
    "        arr = []\n",
    "        temp = m[0]\n",
    "        while (temp != None):\n",
    "            arr = [temp.move + temp.state]+ arr\n",
    "            temp = temp.parent\n",
    "        solution = np.array(arr)\n",
    "    \n",
    "        #prepare search file\n",
    "        arr = []\n",
    "        for i in m:\n",
    "            arr = arr + [[(i.cost+i.heristic), 0, 0] + i.state]\n",
    "        search = np.array(arr)\n",
    "        cost = m[0].cost\n",
    "          \n",
    "    print(st, \"RunTIme:\",t, \"length of solution:\", len(solution), \"length of search\", len(search), \"cost of solution:\", cost)\n",
    "    name = str(st)+ \" astar-h2 solution.txt\"\n",
    "    np.savetxt(name, solution, fmt=\"%s\")\n",
    "    name = str(st)+ \" astar-h2 search.txt\"\n",
    "    np.savetxt(name, search, fmt=\"%s\")"
   ]
  },
  {
   "cell_type": "markdown",
   "metadata": {},
   "source": [
    "# run demo h0 code"
   ]
  },
  {
   "cell_type": "code",
   "execution_count": 448,
   "metadata": {},
   "outputs": [],
   "source": [
    "#h0\n",
    "def heristic(m):\n",
    "    temp = 1\n",
    "    if m.zero == 7:\n",
    "        temp = 0\n",
    "    return temp  "
   ]
  },
  {
   "cell_type": "markdown",
   "metadata": {},
   "source": [
    "# Analyse"
   ]
  },
  {
   "cell_type": "code",
   "execution_count": 520,
   "metadata": {},
   "outputs": [],
   "source": [
    "perf = []\n",
    "perf = perf + [[0, 1, 2, 3]]\n",
    "perf = perf + [[0, 1, 2, 3]]\n",
    "np.savetxt('test.csv', perf, delimiter=',',newline='\\n', fmt=\"%s\")"
   ]
  },
  {
   "cell_type": "code",
   "execution_count": null,
   "metadata": {},
   "outputs": [],
   "source": []
  }
 ],
 "metadata": {
  "kernelspec": {
   "display_name": "Python 3",
   "language": "python",
   "name": "python3"
  },
  "language_info": {
   "codemirror_mode": {
    "name": "ipython",
    "version": 3
   },
   "file_extension": ".py",
   "mimetype": "text/x-python",
   "name": "python",
   "nbconvert_exporter": "python",
   "pygments_lexer": "ipython3",
   "version": "3.8.3"
  }
 },
 "nbformat": 4,
 "nbformat_minor": 4
}
