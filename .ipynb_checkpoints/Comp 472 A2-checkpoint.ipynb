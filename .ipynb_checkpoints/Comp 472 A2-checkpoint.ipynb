{
 "cells": [
  {
   "cell_type": "markdown",
   "metadata": {},
   "source": [
    "Comp 472 A2\n"
   ]
  },
  {
   "cell_type": "code",
   "execution_count": 7,
   "metadata": {},
   "outputs": [],
   "source": [
    "import copy"
   ]
  },
  {
   "cell_type": "markdown",
   "metadata": {},
   "source": [
    "# Define starting state and goal"
   ]
  },
  {
   "cell_type": "code",
   "execution_count": 112,
   "metadata": {},
   "outputs": [],
   "source": [
    "#Initial state\n",
    "Initial_state = [4,2,3,1,5,6,7,0]\n",
    "goal_state = [[1,2,3,4,5,6,7,0],\n",
    "              [1,3,5,7,2,4,6,0]]\n",
    "xmax = 2\n",
    "ymax = 4"
   ]
  },
  {
   "cell_type": "markdown",
   "metadata": {},
   "source": [
    "# Node class and usefull functions"
   ]
  },
  {
   "cell_type": "code",
   "execution_count": 27,
   "metadata": {},
   "outputs": [],
   "source": [
    "#create class \n",
    "class Node: \n",
    "    state = None\n",
    "    cost = 0\n",
    "    parent = None\n",
    "    heristic = 0\n",
    "    move = \"\"\n",
    "    \n",
    "    # parameterized constructor \n",
    "    def __init__(self, state, cost, parent, move): \n",
    "        self.state = state \n",
    "        self.cost = cost\n",
    "        self.parent = parent\n",
    "        self.move = move\n",
    "    \n",
    "    def swap(self, x, y, cost, move):\n",
    "        arr = copy.deepcopy(self.state)\n",
    "        arr[x], arr[y] = arr[y],arr[x]\n",
    "        return  Node(arr, self.cost+cost, self, move)\n",
    "    \n",
    "    def zero(self):\n",
    "        return self.state.index(0)\n",
    "    "
   ]
  },
  {
   "cell_type": "code",
   "execution_count": null,
   "metadata": {},
   "outputs": [],
   "source": [
    "\n",
    "\n"
   ]
  },
  {
   "cell_type": "markdown",
   "metadata": {},
   "source": [
    "# Uniform cost (UCS)"
   ]
  },
  {
   "cell_type": "code",
   "execution_count": 107,
   "metadata": {},
   "outputs": [],
   "source": [
    "def ucs(start, goal, hight, lenght):\n",
    "    openlist = [Node(start, 0, None, \"start\")]\n",
    "    closelist = []\n",
    "    while (len(openlist) != 0):\n",
    "        temp = []\n",
    "        m = openlist.pop(0)\n",
    "        #check if goal reached\n",
    "        for i in goal:\n",
    "            if m.state == i:\n",
    "                print (\"UCS search reached goal\")\n",
    "                closelist = [m]+closelist\n",
    "                return closelist\n",
    "        #travers node\n",
    "        x = m.zero()\n",
    "        if x == 0:\n",
    "            #do diagnal move, wrap move\n",
    "            temp.append(m.swap(x, lenght-1, 2, \"wrap\"))\n",
    "            temp.append(m.swap(x, hight*lenght-1, 3, \"diagnal\"))\n",
    "        if x == ymax-1:\n",
    "            #do diagnal move, wrap move\n",
    "            temp.append(m.swap(x, 0, 2, \"wrap\"))\n",
    "            temp.append(m.swap(x, lenght, 3, \"diagnal\"))\n",
    "        if x == ymax*(xmax-1):\n",
    "            #do diagnal move, wrap move\n",
    "            temp.append(m.swap(x, lenght-1, 3, \"diagnal\"))\n",
    "            temp.append(m.swap(x, hight*lenght-1, 2, \"wrap\"))\n",
    "        if x == xmax*ymax-1:\n",
    "            #do diagnal move, wrap move\n",
    "            temp.append(m.swap(x, 0, 3, \"diagnal\"))\n",
    "            temp.append(m.swap(x, lenght*(hight-1), 2, \"wrap\"))\n",
    "        if x < ymax*(xmax-1):\n",
    "            #do down move\n",
    "            temp.append(m.swap(x, x+lenght, 1, \"down\"))\n",
    "        if x > ymax-1:\n",
    "            #do up move\n",
    "            temp.append(m.swap(x, x-lenght, 1, \"up\"))\n",
    "        if x != 0 and x != lenght:\n",
    "            #do left move\n",
    "            temp.append(m.swap(x, x-1, 1, \"left\"))\n",
    "        if x != ymax-1 and x != hight*lenght-1:\n",
    "            #do right move\n",
    "            temp.append(m.swap(x, x+1, 1, \"right\"))\n",
    "        #add to closelist\n",
    "        closelist = [m]+closelist\n",
    "        #check if states already traversed\n",
    "        for i in temp: \n",
    "            add = True\n",
    "            for j in closelist:\n",
    "                if j.state == i.state:\n",
    "                    add = False\n",
    "                    break\n",
    "            if add: \n",
    "                openlist = [i]+openlist\n",
    "        #sort openlist\n",
    "        openlist = sorted(openlist, key = lambda Node: Node.cost)\n",
    "        \n",
    "    print(\"UCS search found no solutions\")\n"
   ]
  },
  {
   "cell_type": "code",
   "execution_count": 113,
   "metadata": {},
   "outputs": [
    {
     "name": "stdout",
     "output_type": "stream",
     "text": [
      "UCS search reached goal\n",
      "[1, 2, 3, 4, 5, 6, 7, 0] cost 6 move down\n",
      "[1, 2, 3, 0, 5, 6, 7, 4] cost 5 move wrap\n",
      "[0, 2, 3, 1, 5, 6, 7, 4] cost 3 move diagnal\n",
      "[4, 2, 3, 1, 5, 6, 7, 0] cost 0 move start\n"
     ]
    }
   ],
   "source": [
    "m = ucs(Initial_state, goal_state, xmax, ymax)\n",
    "\n",
    "temp = m[0]\n",
    "while (temp != None):\n",
    "    print(temp.state, \"cost\", temp.cost, \"move\", temp.move)\n",
    "    temp = temp.parent"
   ]
  },
  {
   "cell_type": "code",
   "execution_count": null,
   "metadata": {},
   "outputs": [],
   "source": []
  },
  {
   "cell_type": "code",
   "execution_count": null,
   "metadata": {},
   "outputs": [],
   "source": []
  },
  {
   "cell_type": "code",
   "execution_count": null,
   "metadata": {},
   "outputs": [],
   "source": []
  },
  {
   "cell_type": "code",
   "execution_count": null,
   "metadata": {},
   "outputs": [],
   "source": []
  }
 ],
 "metadata": {
  "kernelspec": {
   "display_name": "Python 3",
   "language": "python",
   "name": "python3"
  },
  "language_info": {
   "codemirror_mode": {
    "name": "ipython",
    "version": 3
   },
   "file_extension": ".py",
   "mimetype": "text/x-python",
   "name": "python",
   "nbconvert_exporter": "python",
   "pygments_lexer": "ipython3",
   "version": "3.8.3"
  }
 },
 "nbformat": 4,
 "nbformat_minor": 4
}
